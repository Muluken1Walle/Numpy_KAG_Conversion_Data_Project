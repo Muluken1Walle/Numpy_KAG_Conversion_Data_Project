{
  "nbformat": 4,
  "nbformat_minor": 0,
  "metadata": {
    "colab": {
      "name": "PathkAGConversion.ipynb",
      "provenance": [],
      "authorship_tag": "ABX9TyMWFoQ1SDfjrCsYLjMf7vPE",
      "include_colab_link": true
    },
    "kernelspec": {
      "name": "python3",
      "display_name": "Python 3"
    },
    "language_info": {
      "name": "python"
    }
  },
  "cells": [
    {
      "cell_type": "markdown",
      "metadata": {
        "id": "view-in-github",
        "colab_type": "text"
      },
      "source": [
        "<a href=\"https://colab.research.google.com/github/Muluken1Walle/Numpy_KAG_Conversion_Data_Project/blob/main/PathkAGConversion.ipynb\" target=\"_parent\"><img src=\"https://colab.research.google.com/assets/colab-badge.svg\" alt=\"Open In Colab\"/></a>"
      ]
    },
    {
      "cell_type": "code",
      "source": [
        "project_data = 'KAG_Conversion_Data.csv'"
      ],
      "metadata": {
        "id": "MSNaXJHtfuJv"
      },
      "execution_count": null,
      "outputs": []
    },
    {
      "cell_type": "code",
      "source": [
        "import numpy as np\n",
        "KageDataStr= np.genfromtxt(project_data, delimiter=',', skip_header=1,dtype=str)\n",
        "KageDataFloat = np.genfromtxt(project_data,delimiter=',',skip_header=1,dtype=float)"
      ],
      "metadata": {
        "id": "uemKEoGmljl0"
      },
      "execution_count": null,
      "outputs": []
    },
    {
      "cell_type": "code",
      "source": [
        "KageDataStr"
      ],
      "metadata": {
        "colab": {
          "base_uri": "https://localhost:8080/"
        },
        "id": "421SpQkk2pus",
        "outputId": "acdcbea1-2b09-4ca1-cc23-a75947fc34ae"
      },
      "execution_count": null,
      "outputs": [
        {
          "output_type": "execute_result",
          "data": {
            "text/plain": [
              "array([['708746', '916', '103916', ..., '1.429999948', '2', '1'],\n",
              "       ['708749', '916', '103917', ..., '1.820000023', '2', '0'],\n",
              "       ['708771', '916', '103920', ..., '0', '1', '0'],\n",
              "       ...,\n",
              "       ['1314412', '1178', '179979', ..., '40.28999949', '2', '0'],\n",
              "       ['1314414', '1178', '179981', ..., '198.7100005', '8', '2'],\n",
              "       ['1314415', '1178', '179982', ..., '165.6099987', '5', '2']],\n",
              "      dtype='<U11')"
            ]
          },
          "metadata": {},
          "execution_count": 14
        }
      ]
    },
    {
      "cell_type": "code",
      "source": [
        "KageDataFloat"
      ],
      "metadata": {
        "colab": {
          "base_uri": "https://localhost:8080/"
        },
        "id": "qavQiDZ02s5J",
        "outputId": "70153265-15f7-4897-c3f3-335fefff7ae6"
      },
      "execution_count": null,
      "outputs": [
        {
          "output_type": "execute_result",
          "data": {
            "text/plain": [
              "array([[7.08746000e+05, 9.16000000e+02, 1.03916000e+05, ...,\n",
              "        1.42999995e+00, 2.00000000e+00, 1.00000000e+00],\n",
              "       [7.08749000e+05, 9.16000000e+02, 1.03917000e+05, ...,\n",
              "        1.82000002e+00, 2.00000000e+00, 0.00000000e+00],\n",
              "       [7.08771000e+05, 9.16000000e+02, 1.03920000e+05, ...,\n",
              "        0.00000000e+00, 1.00000000e+00, 0.00000000e+00],\n",
              "       ...,\n",
              "       [1.31441200e+06, 1.17800000e+03, 1.79979000e+05, ...,\n",
              "        4.02899995e+01, 2.00000000e+00, 0.00000000e+00],\n",
              "       [1.31441400e+06, 1.17800000e+03, 1.79981000e+05, ...,\n",
              "        1.98710001e+02, 8.00000000e+00, 2.00000000e+00],\n",
              "       [1.31441500e+06, 1.17800000e+03, 1.79982000e+05, ...,\n",
              "        1.65609999e+02, 5.00000000e+00, 2.00000000e+00]])"
            ]
          },
          "metadata": {},
          "execution_count": 15
        }
      ]
    },
    {
      "cell_type": "code",
      "source": [
        "type(KageDataStr)"
      ],
      "metadata": {
        "colab": {
          "base_uri": "https://localhost:8080/"
        },
        "id": "WE1yfP6i20KN",
        "outputId": "03a1efba-ac66-4aab-c338-a54555fd68ec"
      },
      "execution_count": null,
      "outputs": [
        {
          "output_type": "execute_result",
          "data": {
            "text/plain": [
              "numpy.ndarray"
            ]
          },
          "metadata": {},
          "execution_count": 16
        }
      ]
    },
    {
      "cell_type": "code",
      "source": [
        "type(KageDataFloat)"
      ],
      "metadata": {
        "colab": {
          "base_uri": "https://localhost:8080/"
        },
        "id": "OpOaNJpz3A_Z",
        "outputId": "f7f37d5e-0882-4dd2-a480-5ac3e3b01f23"
      },
      "execution_count": null,
      "outputs": [
        {
          "output_type": "execute_result",
          "data": {
            "text/plain": [
              "numpy.ndarray"
            ]
          },
          "metadata": {},
          "execution_count": 17
        }
      ]
    },
    {
      "cell_type": "code",
      "source": [
        "H = KageDataStr[:,1]\n",
        "np.unique(H,return_counts=True)"
      ],
      "metadata": {
        "colab": {
          "base_uri": "https://localhost:8080/"
        },
        "id": "TMpGwju23FOT",
        "outputId": "fb3917ef-612f-4cde-ad8a-7fa839c633e3"
      },
      "execution_count": null,
      "outputs": [
        {
          "output_type": "execute_result",
          "data": {
            "text/plain": [
              "(array(['1178', '916', '936'], dtype='<U11'), array([625,  54, 464]))"
            ]
          },
          "metadata": {},
          "execution_count": 19
        }
      ]
    },
    {
      "cell_type": "code",
      "source": [
        "unique_id ,count = np.unique(H,return_counts=True)\n",
        "print(unique_id)\n",
        "print(count)"
      ],
      "metadata": {
        "colab": {
          "base_uri": "https://localhost:8080/"
        },
        "id": "WxJf6Brj5FMg",
        "outputId": "25dbc714-3215-42f4-ed6f-7d909488b758"
      },
      "execution_count": null,
      "outputs": [
        {
          "output_type": "stream",
          "name": "stdout",
          "text": [
            "['1178' '916' '936']\n",
            "[625  54 464]\n"
          ]
        }
      ]
    },
    {
      "cell_type": "code",
      "source": [
        "for i in range(len(unique_id)):\n",
        "  print('{} ran {} times'.format(unique_id[i],count[i]))"
      ],
      "metadata": {
        "colab": {
          "base_uri": "https://localhost:8080/"
        },
        "id": "_1DMFRPH5py5",
        "outputId": "5751c461-5bfd-4d7f-fb6d-f4a30b99395a"
      },
      "execution_count": null,
      "outputs": [
        {
          "output_type": "stream",
          "name": "stdout",
          "text": [
            "1178 ran 625 times\n",
            "916 ran 54 times\n",
            "936 ran 464 times\n"
          ]
        }
      ]
    },
    {
      "cell_type": "code",
      "source": [
        "age = KageDataStr[:,3]\n",
        "UniquAgeGroup= np.unique(age)\n",
        "print(UniquAgeGroup)"
      ],
      "metadata": {
        "colab": {
          "base_uri": "https://localhost:8080/"
        },
        "id": "LlNkKAhf6dn-",
        "outputId": "1e458c87-ef66-4c04-f0ac-e7eea0f142ef"
      },
      "execution_count": null,
      "outputs": [
        {
          "output_type": "stream",
          "name": "stdout",
          "text": [
            "['30-34' '35-39' '40-44' '45-49']\n"
          ]
        }
      ]
    },
    {
      "cell_type": "code",
      "source": [
        "Spent =KageDataFloat[:,8]\n",
        "print(Spent)\n",
        "AvgSpent= Spent.mean()\n",
        "MinSpent= Spent.min()\n",
        "MaxSpent = Spent.max()\n",
        "print('The average amount spent on ads',AvgSpent)\n",
        "print('the minimum amount spent on ads', MinSpent)\n",
        "print('The Maximum amount spent on ads', MaxSpent)"
      ],
      "metadata": {
        "colab": {
          "base_uri": "https://localhost:8080/"
        },
        "id": "Nohcifrw85vv",
        "outputId": "844de1eb-1ee0-4292-d8f8-3409b38e0c61"
      },
      "execution_count": null,
      "outputs": [
        {
          "output_type": "stream",
          "name": "stdout",
          "text": [
            "[  1.42999995   1.82000002   0.         ...  40.28999949 198.7100005\n",
            " 165.6099987 ]\n",
            "The average amount spent on ads 51.36065613141295\n",
            "the minimum amount spent on ads 0.0\n",
            "The Maximum amount spent on ads 639.9499981\n"
          ]
        }
      ]
    },
    {
      "cell_type": "code",
      "source": [
        "Id = KageDataFloat[:,0]\n",
        "print(Id)\n",
        "Click= KageDataFloat[:,7]\n",
        "print(Click)"
      ],
      "metadata": {
        "colab": {
          "base_uri": "https://localhost:8080/"
        },
        "id": "jCigcokb-6WP",
        "outputId": "c397f3c3-f941-44f7-9f62-79942d13f986"
      },
      "execution_count": null,
      "outputs": [
        {
          "output_type": "stream",
          "name": "stdout",
          "text": [
            "[ 708746.  708749.  708771. ... 1314412. 1314414. 1314415.]\n",
            "[  1.   2.   0. ...  28. 135. 114.]\n"
          ]
        }
      ]
    },
    {
      "cell_type": "code",
      "source": [
        "maxc= Click.max()\n",
        "print('The maximum number of clicks is',maxc)\n"
      ],
      "metadata": {
        "colab": {
          "base_uri": "https://localhost:8080/"
        },
        "id": "Apnbs7Wo_uRG",
        "outputId": "0c77a680-4242-4dfe-c171-6a9028032de7"
      },
      "execution_count": null,
      "outputs": [
        {
          "output_type": "stream",
          "name": "stdout",
          "text": [
            "The maximum number of clicks is 421.0\n"
          ]
        }
      ]
    },
    {
      "cell_type": "code",
      "source": [
        "max_click_id = Id[Click==maxc]\n",
        "print('Id of the ad having the maximum number of clicks', max_click_id)"
      ],
      "metadata": {
        "colab": {
          "base_uri": "https://localhost:8080/"
        },
        "id": "NOgpRf-cApI-",
        "outputId": "77097a5e-c5f0-4031-90ab-7a38abaf1759"
      },
      "execution_count": null,
      "outputs": [
        {
          "output_type": "stream",
          "name": "stdout",
          "text": [
            "Id of the ad having the maximum number of clicks [1121814.]\n"
          ]
        }
      ]
    },
    {
      "cell_type": "code",
      "source": [
        "Aconversion = KageDataFloat[:,10]\n",
        "print(Aconversion)\n",
        "ac= Aconversion[Click== maxc]\n",
        "print('the aproved conversion after seen the ads the most click',ac)"
      ],
      "metadata": {
        "colab": {
          "base_uri": "https://localhost:8080/"
        },
        "id": "yb8m3HAwBTVr",
        "outputId": "6caf9110-4a93-4b80-fbbc-a72af81c2cdb"
      },
      "execution_count": null,
      "outputs": [
        {
          "output_type": "stream",
          "name": "stdout",
          "text": [
            "[1. 0. 0. ... 0. 2. 2.]\n",
            "the aproved conversion after seen the ads the most click [13.]\n"
          ]
        }
      ]
    },
    {
      "cell_type": "code",
      "source": [
        "maxs= Aconversion.max()\n",
        "print('the maximum numbe of purchase is',maxs)\n"
      ],
      "metadata": {
        "colab": {
          "base_uri": "https://localhost:8080/"
        },
        "id": "JLNmdTo7D8ld",
        "outputId": "971d9b5f-16c7-42de-8e6c-14d41071220b"
      },
      "execution_count": null,
      "outputs": [
        {
          "output_type": "stream",
          "name": "stdout",
          "text": [
            "the maximum numbe of purchase is 21.0\n"
          ]
        }
      ]
    },
    {
      "cell_type": "code",
      "source": [
        "KageDataFloat[Aconversion==21.0]"
      ],
      "metadata": {
        "colab": {
          "base_uri": "https://localhost:8080/"
        },
        "id": "9ZMGGvQpEeni",
        "outputId": "4f4c8836-e699-4967-aa9d-7a7cf0ccc302"
      },
      "execution_count": null,
      "outputs": [
        {
          "output_type": "execute_result",
          "data": {
            "text/plain": [
              "array([[1.12110400e+06, 1.17800000e+03, 1.44533000e+05,            nan,\n",
              "                   nan, 1.60000000e+01, 2.08066600e+06, 2.02000000e+02,\n",
              "        3.60150001e+02, 4.00000000e+01, 2.10000000e+01]])"
            ]
          },
          "metadata": {},
          "execution_count": 44
        }
      ]
    }
  ]
}